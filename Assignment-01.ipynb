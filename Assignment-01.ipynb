{
 "cells": [
  {
   "cell_type": "markdown",
   "id": "aea1c3b3",
   "metadata": {},
   "source": [
    "# Q1. Create one variable containing following type of data:\n",
    "    (i) string\n",
    "    (ii) list\n",
    "    (iii) float\n",
    "    (iv) tuple"
   ]
  },
  {
   "cell_type": "code",
   "execution_count": 1,
   "id": "04c04a60",
   "metadata": {},
   "outputs": [],
   "source": [
    "# String Variable\n",
    "str_v = \"PWSkills\"\n",
    "# List Variable\n",
    "list_v = [1,2,\"PWskills\",3.5]\n",
    "# Float Variable\n",
    "float_v = 12.5\n",
    "# Tuple Variable\n",
    "tuple_v = (1,3,\"PWSkills\",6.8)"
   ]
  },
  {
   "cell_type": "markdown",
   "id": "4d692e8a",
   "metadata": {},
   "source": [
    "# Q2. Given are some following variables containing data:\n",
    "    (i) var1 = ' '\n",
    "    (ii) var2 = '[ DS , ML , Python]'\n",
    "    (iii) var3 = [ 'DS' , 'ML' , 'Python' ]\n",
    "    (iv) var4 = 1.\n",
    "   What will be the data type of the above given variable."
   ]
  },
  {
   "cell_type": "code",
   "execution_count": 2,
   "id": "e64bd5d3",
   "metadata": {},
   "outputs": [
    {
     "name": "stdout",
     "output_type": "stream",
     "text": [
      "<class 'str'>\n",
      "<class 'str'>\n",
      "<class 'list'>\n",
      "<class 'float'>\n"
     ]
    }
   ],
   "source": [
    "var1 = ' '\n",
    "print(type(var1))\n",
    "var2 = '[ DS , ML , Python]'\n",
    "print(type(var2))\n",
    "var3 = [ 'DS' , 'ML' , 'Python' ]\n",
    "print(type(var3))\n",
    "var4 = 1.\n",
    "print(type(var4))"
   ]
  },
  {
   "cell_type": "markdown",
   "id": "7db9022d",
   "metadata": {},
   "source": [
    "# Q3. Explain the use of the following operators using an example:\n",
    "    (i) /\n",
    "    (ii) %\n",
    "    (iii) //\n",
    "    (iv) **"
   ]
  },
  {
   "cell_type": "code",
   "execution_count": 3,
   "id": "96666668",
   "metadata": {},
   "outputs": [
    {
     "name": "stdout",
     "output_type": "stream",
     "text": [
      "17.0 3 3 3.0 9\n"
     ]
    }
   ],
   "source": [
    "# Division Operator => It will give the quotient.\n",
    "div_r = 34 / 2\n",
    "# Modulus Operator => It will give the remainder.\n",
    "mod_r = 15 % 4\n",
    "# Floor division Operator => If the operands are both integers, then the output will an integer. If either operand is a float then the output will be a float.\n",
    "floor_r = 45 // 12\n",
    "floor_r2 = 45.0 // 12\n",
    "# Power Operator => It will give power of a number\n",
    "power_r = 3 ** 2\n",
    "print(div_r, mod_r, floor_r,floor_r2, power_r)"
   ]
  },
  {
   "cell_type": "markdown",
   "id": "bca96cee",
   "metadata": {},
   "source": [
    "# Q4. Create a list of length 10 of your choice containing multiple types of data. Using for loop print the element and its data type."
   ]
  },
  {
   "cell_type": "code",
   "execution_count": 4,
   "id": "09e55038",
   "metadata": {},
   "outputs": [
    {
     "name": "stdout",
     "output_type": "stream",
     "text": [
      "10 <class 'int'>\n",
      "PWSkills <class 'str'>\n",
      "23.5 <class 'float'>\n",
      "(1, 2) <class 'tuple'>\n",
      "[3, 5] <class 'list'>\n",
      "(3+5j) <class 'complex'>\n",
      "True <class 'bool'>\n",
      "{1: 'PWSkills'} <class 'dict'>\n",
      "23 <class 'int'>\n",
      "45.8 <class 'float'>\n"
     ]
    }
   ],
   "source": [
    "list1 = [10, 'PWSkills', 23.5, (1,2), [3,5], 3+5j, True, {1: \"PWSkills\"}, 23, 45.8]\n",
    "for i in list1:\n",
    "    print(i, type(i))"
   ]
  },
  {
   "cell_type": "markdown",
   "id": "3bd5eb5b",
   "metadata": {},
   "source": [
    "# Q5. Using a while loop, verify if the number A is purely divisible by number B and if so then how many times it can be divisible."
   ]
  },
  {
   "cell_type": "code",
   "execution_count": 5,
   "id": "cc4ac126",
   "metadata": {},
   "outputs": [
    {
     "name": "stdout",
     "output_type": "stream",
     "text": [
      "24\n",
      "6\n",
      "It is divisible by 3 times.\n"
     ]
    }
   ],
   "source": [
    "A = int(input())\n",
    "B = int(input())\n",
    "count = 0\n",
    "while(A > B):\n",
    "    count = count + 1\n",
    "    A = A - B\n",
    "print(\"It is divisible by\",count, \"times.\")"
   ]
  },
  {
   "cell_type": "markdown",
   "id": "a788ffd1",
   "metadata": {},
   "source": [
    "# Q6. Create a list containing 25 int type data. Using for loop and if-else condition print if the element is divisible by 3 or not."
   ]
  },
  {
   "cell_type": "code",
   "execution_count": 6,
   "id": "ef3afe55",
   "metadata": {},
   "outputs": [
    {
     "name": "stdout",
     "output_type": "stream",
     "text": [
      "Numbers divisible by 3  [3, 6, 9, 12, 15, 18, 21, 24]\n"
     ]
    }
   ],
   "source": [
    "list1 = [1,2,3,4,5,6,7,8,9,10,11,12,13,14,15,16,17,18,19,20,21,22,23,24,25]\n",
    "div_by_3 = []\n",
    "for i in list1:\n",
    "    if i % 3 == 0:\n",
    "        div_by_3.append(i)\n",
    "print(\"Numbers divisible by 3 \", div_by_3)"
   ]
  },
  {
   "cell_type": "markdown",
   "id": "19f40730",
   "metadata": {},
   "source": [
    "# Q7. What do you understand about mutable and immutable data types? Give examples for both showing this property."
   ]
  },
  {
   "cell_type": "code",
   "execution_count": 7,
   "id": "4eb55a0a",
   "metadata": {},
   "outputs": [
    {
     "name": "stdout",
     "output_type": "stream",
     "text": [
      "[1, 2, 3, 4]\n",
      "{1: 'PwSkills', 2: 'Ineuron', 3: 'Merge of PW & I'}\n",
      "{1, 2, 3, 5}\n"
     ]
    },
    {
     "ename": "TypeError",
     "evalue": "'str' object does not support item assignment",
     "output_type": "error",
     "traceback": [
      "\u001b[1;31m----------------------------------------------------------------------\u001b[0m",
      "\u001b[1;31mTypeError\u001b[0m                            Traceback (most recent call last)",
      "Cell \u001b[1;32mIn[7], line 23\u001b[0m\n\u001b[0;32m     20\u001b[0m \u001b[38;5;66;03m# IMMUTABLE EXAMPES:\u001b[39;00m\n\u001b[0;32m     22\u001b[0m immutable_str \u001b[38;5;241m=\u001b[39m \u001b[38;5;124m\"\u001b[39m\u001b[38;5;124mPWSkills\u001b[39m\u001b[38;5;124m\"\u001b[39m\n\u001b[1;32m---> 23\u001b[0m immutable_str[\u001b[38;5;241m2\u001b[39m] \u001b[38;5;241m=\u001b[39m \u001b[38;5;124m'\u001b[39m\u001b[38;5;124me\u001b[39m\u001b[38;5;124m'\u001b[39m\n\u001b[0;32m     25\u001b[0m immutable_tup \u001b[38;5;241m=\u001b[39m (\u001b[38;5;241m1\u001b[39m,\u001b[38;5;241m2\u001b[39m,\u001b[38;5;241m3\u001b[39m)\n\u001b[0;32m     26\u001b[0m immutable_tup[\u001b[38;5;241m2\u001b[39m] \u001b[38;5;241m=\u001b[39m \u001b[38;5;241m5\u001b[39m\n",
      "\u001b[1;31mTypeError\u001b[0m: 'str' object does not support item assignment"
     ]
    }
   ],
   "source": [
    "# MUTABLE\n",
    "    # - Mutable data types the data types which alows us to changes the values of the variables.\n",
    "    # - Eg: Lists, Dict, Sets\n",
    "# IMMUTABLE\n",
    "    # - Immutable data types are the data types which don't allow the variables to change the values.\n",
    "    # - Eg: String, Tuple\n",
    "# MUTABLE EXAMPES:\n",
    "mutable_list  = [1,2,3]\n",
    "mutable_list.append(4)\n",
    "print(mutable_list)\n",
    "\n",
    "mutable_dict = {1:\"PwSkills\", 2:\"Ineuron\"}\n",
    "mutable_dict[3] =  \"Merge of PW & I\"\n",
    "print(mutable_dict)\n",
    "\n",
    "mutable_set = {1,2,3}\n",
    "mutable_set.add(5)\n",
    "print(mutable_set)\n",
    "\n",
    "# IMMUTABLE EXAMPES:\n",
    "\n",
    "immutable_str = \"PWSkills\"\n",
    "immutable_str[2] = 'e'\n",
    "\n",
    "immutable_tup = (1,2,3)\n",
    "immutable_tup[2] = 5"
   ]
  },
  {
   "cell_type": "code",
   "execution_count": null,
   "id": "d78662d4",
   "metadata": {},
   "outputs": [],
   "source": [
    "    "
   ]
  }
 ],
 "metadata": {
  "kernelspec": {
   "display_name": "Python 3 (ipykernel)",
   "language": "python",
   "name": "python3"
  },
  "language_info": {
   "codemirror_mode": {
    "name": "ipython",
    "version": 3
   },
   "file_extension": ".py",
   "mimetype": "text/x-python",
   "name": "python",
   "nbconvert_exporter": "python",
   "pygments_lexer": "ipython3",
   "version": "3.10.9"
  }
 },
 "nbformat": 4,
 "nbformat_minor": 5
}
